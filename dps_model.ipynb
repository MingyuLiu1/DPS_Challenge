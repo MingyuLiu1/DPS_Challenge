{
 "cells": [
  {
   "cell_type": "code",
   "execution_count": 42,
   "metadata": {},
   "outputs": [],
   "source": [
    "import numpy as np\n",
    "import pandas as pd\n",
    "import seaborn as sns\n",
    "import matplotlib.pyplot as plt\n",
    "import joblib\n",
    "\n",
    "from sklearn.linear_model import LinearRegression\n",
    "\n",
    "from sklearn.model_selection import train_test_split\n",
    "import sklearn.metrics as metrics"
   ]
  },
  {
   "cell_type": "markdown",
   "metadata": {},
   "source": [
    "## Load data"
   ]
  },
  {
   "cell_type": "code",
   "execution_count": 43,
   "metadata": {},
   "outputs": [],
   "source": [
    "data = pd.read_csv('220511_monatszahlenmonatszahlen2204_verkehrsunfaelle.csv')"
   ]
  },
  {
   "cell_type": "code",
   "execution_count": 44,
   "metadata": {},
   "outputs": [
    {
     "name": "stdout",
     "output_type": "stream",
     "text": [
      "           MONATSZAHL             AUSPRAEGUNG  JAHR   MONAT   WERT\n",
      "0      Alkoholunfälle               insgesamt  2022  202201    NaN\n",
      "1      Alkoholunfälle               insgesamt  2022  202202    NaN\n",
      "2      Alkoholunfälle               insgesamt  2022  202203    NaN\n",
      "3      Alkoholunfälle               insgesamt  2022  202204    NaN\n",
      "4      Alkoholunfälle               insgesamt  2022  202205    NaN\n",
      "...               ...                     ...   ...     ...    ...\n",
      "2081  Verkehrsunfälle  Verletzte und Getötete  2000  200008  647.0\n",
      "2082  Verkehrsunfälle  Verletzte und Getötete  2000  200009  675.0\n",
      "2083  Verkehrsunfälle  Verletzte und Getötete  2000  200010  615.0\n",
      "2084  Verkehrsunfälle  Verletzte und Getötete  2000  200011  578.0\n",
      "2085  Verkehrsunfälle  Verletzte und Getötete  2000  200012  515.0\n",
      "\n",
      "[2086 rows x 5 columns]\n"
     ]
    },
    {
     "data": {
      "text/plain": [
       "MONATSZAHL      0\n",
       "AUSPRAEGUNG     0\n",
       "JAHR            0\n",
       "MONAT           0\n",
       "WERT           84\n",
       "dtype: int64"
      ]
     },
     "execution_count": 44,
     "metadata": {},
     "output_type": "execute_result"
    }
   ],
   "source": [
    "data = data.iloc[:, :5]\n",
    "print(data)\n",
    "data.isna().sum()"
   ]
  },
  {
   "cell_type": "markdown",
   "metadata": {},
   "source": [
    "## Data visualization and preprocessing"
   ]
  },
  {
   "cell_type": "markdown",
   "metadata": {},
   "source": [
    "### Get data from 2021, and 2000--2020"
   ]
  },
  {
   "cell_type": "code",
   "execution_count": 45,
   "metadata": {},
   "outputs": [
    {
     "name": "stdout",
     "output_type": "stream",
     "text": [
      "\n",
      "---------- data_al_i ----------\n",
      "\n",
      "           MONATSZAHL             AUSPRAEGUNG  JAHR   MONAT   WERT\n",
      "26     Alkoholunfälle               insgesamt  2020  202001   28.0\n",
      "27     Alkoholunfälle               insgesamt  2020  202002   40.0\n",
      "28     Alkoholunfälle               insgesamt  2020  202003   27.0\n",
      "29     Alkoholunfälle               insgesamt  2020  202004   26.0\n",
      "30     Alkoholunfälle               insgesamt  2020  202005   40.0\n",
      "...               ...                     ...   ...     ...    ...\n",
      "2081  Verkehrsunfälle  Verletzte und Getötete  2000  200008  647.0\n",
      "2082  Verkehrsunfälle  Verletzte und Getötete  2000  200009  675.0\n",
      "2083  Verkehrsunfälle  Verletzte und Getötete  2000  200010  615.0\n",
      "2084  Verkehrsunfälle  Verletzte und Getötete  2000  200011  578.0\n",
      "2085  Verkehrsunfälle  Verletzte und Getötete  2000  200012  515.0\n",
      "\n",
      "[1764 rows x 5 columns]\n",
      "\n",
      "---------- data_21_al_i ----------\n",
      "\n",
      "           MONATSZAHL             AUSPRAEGUNG  JAHR   MONAT   WERT\n",
      "13     Alkoholunfälle               insgesamt  2021  202101   16.0\n",
      "14     Alkoholunfälle               insgesamt  2021  202102   14.0\n",
      "15     Alkoholunfälle               insgesamt  2021  202103   24.0\n",
      "16     Alkoholunfälle               insgesamt  2021  202104   16.0\n",
      "17     Alkoholunfälle               insgesamt  2021  202105   24.0\n",
      "...               ...                     ...   ...     ...    ...\n",
      "1808  Verkehrsunfälle  Verletzte und Getötete  2021  202108  531.0\n",
      "1809  Verkehrsunfälle  Verletzte und Getötete  2021  202109  678.0\n",
      "1810  Verkehrsunfälle  Verletzte und Getötete  2021  202110  561.0\n",
      "1811  Verkehrsunfälle  Verletzte und Getötete  2021  202111  430.0\n",
      "1812  Verkehrsunfälle  Verletzte und Getötete  2021  202112  340.0\n",
      "\n",
      "[84 rows x 5 columns]\n"
     ]
    }
   ],
   "source": [
    "data = data.dropna() # Remove all NaN data (remove all data in 2022)\n",
    "\n",
    "data_sum = data[data['MONAT'] == 'Summe']\n",
    "data = data[data['MONAT'] != 'Summe']\n",
    "\n",
    "data_21 = data[data['JAHR'] == 2021]\n",
    "data = data[data['JAHR'] != 2021]\n",
    "\n",
    "data_ins = data_sum[data_sum['AUSPRAEGUNG'] == 'insgesamt']\n",
    "\n",
    "print('\\n---------- data_al_i ----------\\n')\n",
    "print(data)\n",
    "print('\\n---------- data_21_al_i ----------\\n')\n",
    "print(data_21)"
   ]
  },
  {
   "cell_type": "code",
   "execution_count": 46,
   "metadata": {},
   "outputs": [
    {
     "name": "stdout",
     "output_type": "stream",
     "text": [
      "                     WERT                              \n",
      "MONATSZAHL Alkoholunfälle Fluchtunfälle Verkehrsunfälle\n",
      "JAHR                                                   \n",
      "2000               1310.0       12125.0         57224.0\n",
      "2001               1239.0       12083.0         59113.0\n",
      "2002               1182.0       11279.0         53254.0\n",
      "2003               1049.0       10173.0         50052.0\n",
      "2004                963.0       11089.0         51497.0\n",
      "2005                881.0       11562.0         52599.0\n",
      "2006                885.0        9134.0         48888.0\n",
      "2007                841.0        9603.0         48061.0\n",
      "2008                722.0        9834.0         47151.0\n",
      "2009                643.0        9726.0         46391.0\n",
      "2010                603.0       10355.0         46946.0\n",
      "2011                595.0       10756.0         52857.0\n",
      "2012                663.0       11685.0         56620.0\n",
      "2013                530.0       11707.0         58896.0\n",
      "2014                549.0       11403.0         58995.0\n",
      "2015                636.0       11867.0         58589.0\n",
      "2016                445.0       11727.0         58535.0\n",
      "2017                585.0       11814.0         56574.0\n",
      "2018                580.0       12203.0         58406.0\n",
      "2019                661.0       12314.0         57562.0\n",
      "2020                680.0       10489.0         49056.0\n",
      "2021                597.0       10435.0         48400.0\n"
     ]
    },
    {
     "data": {
      "text/plain": [
       "Text(0.5, 0.98, 'The number of accidents per category')"
      ]
     },
     "execution_count": 46,
     "metadata": {},
     "output_type": "execute_result"
    },
    {
     "data": {
      "image/png": "[encoded data removed]",
      "text/plain": [
       "<Figure size 1080x360 with 3 Axes>"
      ]
     },
     "metadata": {
      "needs_background": "light"
     },
     "output_type": "display_data"
    }
   ],
   "source": [
    "data_sum_plt = data_sum.groupby(['JAHR', 'MONATSZAHL'])\n",
    "data_sum_plt = data_sum_plt.sum()\n",
    "data_sum_plt = data_sum_plt.unstack(level = 1)\n",
    "print(data_sum_plt)\n",
    "data_sum_plt.columns = ['Alkoholunfälle', 'Fluchtunfälle', 'Verkehrsunfälle'] \n",
    "\n",
    "fig, axs = plt.subplots(1, 3, figsize=(15, 5))\n",
    "for i, col in enumerate(data_sum_plt):\n",
    "    sns.lineplot(ax=axs[i], data=data_sum_plt[col])\n",
    "plt.subplots_adjust(wspace = 0.3, hspace=0)\n",
    "fig.suptitle('The number of accidents per category')"
   ]
  },
  {
   "cell_type": "code",
   "execution_count": 47,
   "metadata": {},
   "outputs": [
    {
     "data": {
      "text/plain": [
       "Text(0.5, 1.0, 'Number of accidents 2000 -- 2020')"
      ]
     },
     "execution_count": 47,
     "metadata": {},
     "output_type": "execute_result"
    },
    {
     "data": {
      "image/png": "[encoded data removed]",
      "text/plain": [
       "<Figure size 1080x576 with 1 Axes>"
      ]
     },
     "metadata": {
      "needs_background": "light"
     },
     "output_type": "display_data"
    }
   ],
   "source": [
    "acc_ins = data_ins.pivot(index = 'JAHR', columns = 'MONATSZAHL', values = 'WERT')\n",
    "acc_ins.loc[2000:].plot.bar(width = 0.8, stacked = True, figsize = (15, 8))\n",
    "\n",
    "plt.xlabel('Jahr', fontsize = 15)\n",
    "plt.ylabel('Number of accidents', fontsize = 15)\n",
    "plt.legend(loc = 2, prop = {'size' : 12})\n",
    "plt.title('Number of accidents 2000 -- 2020')\n"
   ]
  },
  {
   "cell_type": "code",
   "execution_count": 48,
   "metadata": {},
   "outputs": [],
   "source": [
    "data_al = data[data['MONATSZAHL'] == 'Alkoholunfälle'].sort_values('JAHR')\n",
    "data_al_i = data_al[data_al['AUSPRAEGUNG'] == 'insgesamt']\n",
    "data_21_al = data_21[data_21['MONATSZAHL'] == 'Alkoholunfälle']\n",
    "data_21_al_i = data_21_al[data_21_al['AUSPRAEGUNG'] == 'insgesamt']"
   ]
  },
  {
   "cell_type": "code",
   "execution_count": 49,
   "metadata": {},
   "outputs": [
    {
     "name": "stdout",
     "output_type": "stream",
     "text": [
      "\n",
      "---------- data_al_i ----------\n",
      "\n",
      "         MONATSZAHL AUSPRAEGUNG  JAHR   MONAT  WERT\n",
      "297  Alkoholunfälle   insgesamt  2000  200012  85.0\n",
      "288  Alkoholunfälle   insgesamt  2000  200003  73.0\n",
      "289  Alkoholunfälle   insgesamt  2000  200004  78.0\n",
      "290  Alkoholunfälle   insgesamt  2000  200005  96.0\n",
      "291  Alkoholunfälle   insgesamt  2000  200006  57.0\n",
      "..              ...         ...   ...     ...   ...\n",
      "36   Alkoholunfälle   insgesamt  2020  202011  23.0\n",
      "27   Alkoholunfälle   insgesamt  2020  202002  40.0\n",
      "32   Alkoholunfälle   insgesamt  2020  202007  58.0\n",
      "37   Alkoholunfälle   insgesamt  2020  202012  13.0\n",
      "26   Alkoholunfälle   insgesamt  2020  202001  28.0\n",
      "\n",
      "[252 rows x 5 columns]\n",
      "\n",
      "---------- data_21_al_i ----------\n",
      "\n",
      "        MONATSZAHL AUSPRAEGUNG  JAHR   MONAT  WERT\n",
      "13  Alkoholunfälle   insgesamt  2021  202101  16.0\n",
      "14  Alkoholunfälle   insgesamt  2021  202102  14.0\n",
      "15  Alkoholunfälle   insgesamt  2021  202103  24.0\n",
      "16  Alkoholunfälle   insgesamt  2021  202104  16.0\n",
      "17  Alkoholunfälle   insgesamt  2021  202105  24.0\n",
      "18  Alkoholunfälle   insgesamt  2021  202106  48.0\n",
      "19  Alkoholunfälle   insgesamt  2021  202107  44.0\n",
      "20  Alkoholunfälle   insgesamt  2021  202108  46.0\n",
      "21  Alkoholunfälle   insgesamt  2021  202109  54.0\n",
      "22  Alkoholunfälle   insgesamt  2021  202110  43.0\n",
      "23  Alkoholunfälle   insgesamt  2021  202111  33.0\n",
      "24  Alkoholunfälle   insgesamt  2021  202112  21.0\n"
     ]
    }
   ],
   "source": [
    "print('\\n---------- data_al_i ----------\\n')\n",
    "print(data_al_i)\n",
    "print('\\n---------- data_21_al_i ----------\\n')\n",
    "print(data_21_al_i)"
   ]
  },
  {
   "cell_type": "code",
   "execution_count": 50,
   "metadata": {},
   "outputs": [
    {
     "data": {
      "text/html": [
       "<div>\n",
       "<style scoped>\n",
       "    .dataframe tbody tr th:only-of-type {\n",
       "        vertical-align: middle;\n",
       "    }\n",
       "\n",
       "    .dataframe tbody tr th {\n",
       "        vertical-align: top;\n",
       "    }\n",
       "\n",
       "    .dataframe thead th {\n",
       "        text-align: right;\n",
       "    }\n",
       "</style>\n",
       "<table border=\"1\" class=\"dataframe\">\n",
       "  <thead>\n",
       "    <tr style=\"text-align: right;\">\n",
       "      <th></th>\n",
       "      <th>MONAT</th>\n",
       "      <th>WERT</th>\n",
       "    </tr>\n",
       "  </thead>\n",
       "  <tbody>\n",
       "    <tr>\n",
       "      <th>13</th>\n",
       "      <td>202101</td>\n",
       "      <td>16.0</td>\n",
       "    </tr>\n",
       "    <tr>\n",
       "      <th>14</th>\n",
       "      <td>202102</td>\n",
       "      <td>14.0</td>\n",
       "    </tr>\n",
       "    <tr>\n",
       "      <th>15</th>\n",
       "      <td>202103</td>\n",
       "      <td>24.0</td>\n",
       "    </tr>\n",
       "    <tr>\n",
       "      <th>16</th>\n",
       "      <td>202104</td>\n",
       "      <td>16.0</td>\n",
       "    </tr>\n",
       "    <tr>\n",
       "      <th>17</th>\n",
       "      <td>202105</td>\n",
       "      <td>24.0</td>\n",
       "    </tr>\n",
       "    <tr>\n",
       "      <th>18</th>\n",
       "      <td>202106</td>\n",
       "      <td>48.0</td>\n",
       "    </tr>\n",
       "    <tr>\n",
       "      <th>19</th>\n",
       "      <td>202107</td>\n",
       "      <td>44.0</td>\n",
       "    </tr>\n",
       "    <tr>\n",
       "      <th>20</th>\n",
       "      <td>202108</td>\n",
       "      <td>46.0</td>\n",
       "    </tr>\n",
       "    <tr>\n",
       "      <th>21</th>\n",
       "      <td>202109</td>\n",
       "      <td>54.0</td>\n",
       "    </tr>\n",
       "    <tr>\n",
       "      <th>22</th>\n",
       "      <td>202110</td>\n",
       "      <td>43.0</td>\n",
       "    </tr>\n",
       "    <tr>\n",
       "      <th>23</th>\n",
       "      <td>202111</td>\n",
       "      <td>33.0</td>\n",
       "    </tr>\n",
       "    <tr>\n",
       "      <th>24</th>\n",
       "      <td>202112</td>\n",
       "      <td>21.0</td>\n",
       "    </tr>\n",
       "  </tbody>\n",
       "</table>\n",
       "</div>"
      ],
      "text/plain": [
       "     MONAT  WERT\n",
       "13  202101  16.0\n",
       "14  202102  14.0\n",
       "15  202103  24.0\n",
       "16  202104  16.0\n",
       "17  202105  24.0\n",
       "18  202106  48.0\n",
       "19  202107  44.0\n",
       "20  202108  46.0\n",
       "21  202109  54.0\n",
       "22  202110  43.0\n",
       "23  202111  33.0\n",
       "24  202112  21.0"
      ]
     },
     "execution_count": 50,
     "metadata": {},
     "output_type": "execute_result"
    }
   ],
   "source": [
    "data_al_i = data_al_i.drop(['MONATSZAHL', 'AUSPRAEGUNG', 'JAHR'], axis=1)\n",
    "data_21_al_i= data_21_al_i.drop(['MONATSZAHL', 'AUSPRAEGUNG', 'JAHR'], axis=1)\n",
    "data_21_al_i"
   ]
  },
  {
   "cell_type": "markdown",
   "metadata": {},
   "source": [
    "### LinearRegression"
   ]
  },
  {
   "cell_type": "code",
   "execution_count": 51,
   "metadata": {},
   "outputs": [
    {
     "name": "stdout",
     "output_type": "stream",
     "text": [
      "201\n",
      "201\n"
     ]
    }
   ],
   "source": [
    "features = ['MONAT']\n",
    "\n",
    "X_train, X_test, Y_train, Y_test = train_test_split(data_al_i[features], data_al_i['WERT'], test_size = 0.2, random_state=0, shuffle=True)\n",
    "model = LinearRegression()\n",
    "print(len(X_train))\n",
    "print(len(Y_train))"
   ]
  },
  {
   "cell_type": "code",
   "execution_count": 52,
   "metadata": {},
   "outputs": [
    {
     "name": "stdout",
     "output_type": "stream",
     "text": [
      "MSE on val set: 150.67026476429086\n",
      "[37.81434783 52.06019926 35.71877704 47.80860852 39.82931975 31.70898294\n",
      " 45.79363661 27.69918883 53.95427286 41.92489054 39.8897689  25.70436664\n",
      " 45.81378633 33.8851526  39.95021806 51.9997501  29.81490934 35.79937592\n",
      " 37.95539587 47.82875824 33.86500288 58.08496528 25.64391748 41.86444138\n",
      " 45.83393605 23.85059248 63.96868327 55.94909505 31.85003097 57.92376753\n",
      " 23.669245   43.89956301 45.85408577 33.74410457 35.7792262  39.74872087\n",
      " 33.84485317 64.02913242 61.93356163 33.92545204 43.87941329 62.13505883\n",
      " 29.6738613  35.8799748  49.92432903 43.96001217 25.86556439 58.06481556\n",
      " 53.97442258 33.70380513 53.87367398]\n"
     ]
    },
    {
     "data": {
      "text/plain": [
       "['./dps_model.pkl']"
      ]
     },
     "execution_count": 52,
     "metadata": {},
     "output_type": "execute_result"
    }
   ],
   "source": [
    "model.fit(X_train, Y_train)\n",
    "pred = model.predict(X_test)\n",
    "MSE = metrics.mean_squared_error(Y_test, pred)\n",
    "print('MSE on val set: {}'.format(MSE))\n",
    "print(pred)\n",
    "\n",
    "joblib.dump(model, './dps_model.pkl')"
   ]
  },
  {
   "cell_type": "code",
   "execution_count": 39,
   "metadata": {},
   "outputs": [
    {
     "name": "stdout",
     "output_type": "stream",
     "text": [
      "Prediction on test-set (2021) MSE is 295.4813888303717\n",
      "[21.83562056 21.81547084 21.79532112 21.77517141 21.75502169 21.73487197\n",
      " 21.71472225 21.69457253 21.67442281 21.65427309 21.63412337 21.61397365]\n"
     ]
    }
   ],
   "source": [
    "X_test = data_21_al_i[features]\n",
    "Y_test = data_21_al_i['WERT']\n",
    "pred = model.predict(X_test)\n",
    "MSE = metrics.mean_squared_error(Y_test, pred)\n",
    "print('Prediction on test-set (2021) MSE is {}'.format(MSE))\n",
    "print(pred)"
   ]
  },
  {
   "cell_type": "code",
   "execution_count": 41,
   "metadata": {},
   "outputs": [
    {
     "data": {
      "text/plain": [
       "array([21.83562056])"
      ]
     },
     "execution_count": 41,
     "metadata": {},
     "output_type": "execute_result"
    }
   ],
   "source": [
    "d = [[202101]]\n",
    "model.predict(d)"
   ]
  },
  {
   "cell_type": "code",
   "execution_count": null,
   "metadata": {},
   "outputs": [],
   "source": []
  }
 ],
 "metadata": {
  "interpreter": {
   "hash": "cf1ee66cb0a5dbbe9b15b35d8b5ef163dfe6de55254de5ac3d70cf481ad0a057"
  },
  "kernelspec": {
   "display_name": "Python 3",
   "language": "python",
   "name": "python3"
  },
  "language_info": {
   "codemirror_mode": {
    "name": "ipython",
    "version": 3
   },
   "file_extension": ".py",
   "mimetype": "text/x-python",
   "name": "python",
   "nbconvert_exporter": "python",
   "pygments_lexer": "ipython3",
   "version": "3.7.6"
  }
 },
 "nbformat": 4,
 "nbformat_minor": 2
}
